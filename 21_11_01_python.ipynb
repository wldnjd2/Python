{
  "nbformat": 4,
  "nbformat_minor": 0,
  "metadata": {
    "colab": {
      "name": "Untitled2.ipynb",
      "provenance": [],
      "collapsed_sections": [],
      "authorship_tag": "ABX9TyMZ6p13YwSgwiPinempweIo",
      "include_colab_link": true
    },
    "kernelspec": {
      "name": "python3",
      "display_name": "Python 3"
    },
    "language_info": {
      "name": "python"
    }
  },
  "cells": [
    {
      "cell_type": "markdown",
      "metadata": {
        "id": "view-in-github",
        "colab_type": "text"
      },
      "source": [
        "<a href=\"https://colab.research.google.com/github/wldnjd2/Python/blob/main/21_11_01_python.ipynb\" target=\"_parent\"><img src=\"https://colab.research.google.com/assets/colab-badge.svg\" alt=\"Open In Colab\"/></a>"
      ]
    },
    {
      "cell_type": "markdown",
      "metadata": {
        "id": "wH78WAPcQQe6"
      },
      "source": [
        "Hello World"
      ]
    },
    {
      "cell_type": "code",
      "metadata": {
        "colab": {
          "base_uri": "https://localhost:8080/"
        },
        "id": "K1IZDAXOQZgN",
        "outputId": "44b8f52b-a4b2-4a5e-8bae-3bf83fdcdbfa"
      },
      "source": [
        "print(\"Hello World\")"
      ],
      "execution_count": 1,
      "outputs": [
        {
          "output_type": "stream",
          "name": "stdout",
          "text": [
            "Hello World\n"
          ]
        }
      ]
    },
    {
      "cell_type": "markdown",
      "metadata": {
        "id": "5ZQ1UT1eQeHe"
      },
      "source": [
        "주석처리"
      ]
    },
    {
      "cell_type": "code",
      "metadata": {
        "id": "ZBDouI7UQn07"
      },
      "source": [
        "# 한 줄 주석처리\n",
        "\"\"\" 여러줄 주석\n",
        "처리입니다\"\"\""
      ],
      "execution_count": null,
      "outputs": []
    },
    {
      "cell_type": "markdown",
      "metadata": {
        "id": "zg-sLzaLQsAG"
      },
      "source": [
        "변수의 종류"
      ]
    },
    {
      "cell_type": "code",
      "metadata": {
        "colab": {
          "base_uri": "https://localhost:8080/"
        },
        "id": "9sl1Eu4kQtuV",
        "outputId": "a2572e1f-d5ca-4ce4-9900-391333e6c259"
      },
      "source": [
        "num_int =1 \n",
        "print(type(num_int))"
      ],
      "execution_count": 2,
      "outputs": [
        {
          "output_type": "stream",
          "name": "stdout",
          "text": [
            "<class 'int'>\n"
          ]
        }
      ]
    },
    {
      "cell_type": "code",
      "metadata": {
        "colab": {
          "base_uri": "https://localhost:8080/"
        },
        "id": "5AxWD6Y5Q1_3",
        "outputId": "cdea6530-2e15-45cd-d6cc-975e807fb02f"
      },
      "source": [
        "num_float = 0.2\n",
        "print(type(num_float))"
      ],
      "execution_count": 5,
      "outputs": [
        {
          "output_type": "stream",
          "name": "stdout",
          "text": [
            "<class 'float'>\n"
          ]
        }
      ]
    },
    {
      "cell_type": "code",
      "metadata": {
        "colab": {
          "base_uri": "https://localhost:8080/"
        },
        "id": "jJ7AlzxKRBQF",
        "outputId": "0687c97d-78d3-43de-d725-93ea1228997b"
      },
      "source": [
        "bool_true = True\n",
        "print(type(bool_true))"
      ],
      "execution_count": 8,
      "outputs": [
        {
          "output_type": "stream",
          "name": "stdout",
          "text": [
            "<class 'bool'>\n"
          ]
        }
      ]
    },
    {
      "cell_type": "code",
      "metadata": {
        "colab": {
          "base_uri": "https://localhost:8080/"
        },
        "id": "3wXRmSYLRMg1",
        "outputId": "78d6c899-edc9-4b47-b60b-71e2dbb0f124"
      },
      "source": [
        "none_x = None\n",
        "print(type(none_x))"
      ],
      "execution_count": 9,
      "outputs": [
        {
          "output_type": "stream",
          "name": "stdout",
          "text": [
            "<class 'NoneType'>\n"
          ]
        }
      ]
    },
    {
      "cell_type": "markdown",
      "metadata": {
        "id": "LF6OFKKcRW_W"
      },
      "source": [
        "사칙연산"
      ]
    },
    {
      "cell_type": "code",
      "metadata": {
        "colab": {
          "base_uri": "https://localhost:8080/"
        },
        "id": "eK34G9e7RYfv",
        "outputId": "8f3fb73c-1422-44de-afdb-9e8794aa188e"
      },
      "source": [
        "a=3\n",
        "b=2\n",
        "print(a+b)\n",
        "print(a-b)\n",
        "print(a*b)\n",
        "print(a/b)    #나누기 실수형\n",
        "print(a//b)   #나누기 정수형\n",
        "print(a%b)    #나눗셈 나머지 출력\n",
        "print(a**b)   #제곱"
      ],
      "execution_count": 10,
      "outputs": [
        {
          "output_type": "stream",
          "name": "stdout",
          "text": [
            "5\n",
            "1\n",
            "6\n",
            "1.5\n",
            "1\n",
            "1\n",
            "9\n"
          ]
        }
      ]
    },
    {
      "cell_type": "code",
      "metadata": {
        "colab": {
          "base_uri": "https://localhost:8080/"
        },
        "id": "t3mDFhCiR2-t",
        "outputId": "5b06a208-3c42-4b0b-905f-27dae75eb054"
      },
      "source": [
        "c=2.0\n",
        "d=3.0\n",
        "print(c+d)\n",
        "print(c-d)\n",
        "print(c*d)\n",
        "print(c/d)\n",
        "print(c//d)\n",
        "print(c**d)"
      ],
      "execution_count": 11,
      "outputs": [
        {
          "output_type": "stream",
          "name": "stdout",
          "text": [
            "5.0\n",
            "-1.0\n",
            "6.0\n",
            "0.6666666666666666\n",
            "0.0\n",
            "8.0\n"
          ]
        }
      ]
    },
    {
      "cell_type": "markdown",
      "metadata": {
        "id": "CppVP6YGR9TN"
      },
      "source": [
        "논리형 연산자"
      ]
    },
    {
      "cell_type": "code",
      "metadata": {
        "colab": {
          "base_uri": "https://localhost:8080/"
        },
        "id": "2BP0eLBVR_CV",
        "outputId": "916ca4ca-4724-4ac2-9da5-e0532be49304"
      },
      "source": [
        "print(True and True)\n",
        "print(True and False)\n",
        "print(False and True)\n",
        "print(False and False)\n",
        "#1 1 일때만 1"
      ],
      "execution_count": 13,
      "outputs": [
        {
          "output_type": "stream",
          "name": "stdout",
          "text": [
            "True\n",
            "False\n",
            "False\n",
            "False\n"
          ]
        }
      ]
    },
    {
      "cell_type": "code",
      "metadata": {
        "colab": {
          "base_uri": "https://localhost:8080/"
        },
        "id": "UtJeNPTJSbg-",
        "outputId": "d0c82cfc-7d96-405f-bc17-09a86a979e62"
      },
      "source": [
        "print(True or True)\n",
        "print(True or False)\n",
        "print(False or True)\n",
        "print(False or False)\n",
        "#0 0 일때만 0"
      ],
      "execution_count": 14,
      "outputs": [
        {
          "output_type": "stream",
          "name": "stdout",
          "text": [
            "True\n",
            "True\n",
            "True\n",
            "False\n"
          ]
        }
      ]
    },
    {
      "cell_type": "markdown",
      "metadata": {
        "id": "5l6v7o1mSl_n"
      },
      "source": [
        "형변환"
      ]
    },
    {
      "cell_type": "code",
      "metadata": {
        "colab": {
          "base_uri": "https://localhost:8080/"
        },
        "id": "UHVnpCR4Sqbu",
        "outputId": "c9faf321-9881-4fee-b951-21b28742850b"
      },
      "source": [
        "#input(\"숫자를 입력하세요\")\n",
        "data =input (\"숫자를 입력하세요\")\n",
        "data2 = int(data)\n",
        "print(type(data2))  #형변환"
      ],
      "execution_count": 16,
      "outputs": [
        {
          "output_type": "stream",
          "name": "stdout",
          "text": [
            "숫자를 입력하세요100\n",
            "<class 'int'>\n"
          ]
        }
      ]
    },
    {
      "cell_type": "code",
      "metadata": {
        "colab": {
          "base_uri": "https://localhost:8080/"
        },
        "id": "V4hBffSeUTj4",
        "outputId": "64ba9c08-cc70-4ea4-87c6-bf17e2fe8765"
      },
      "source": [
        "num1 = int(input(\"첫번째 숫자를 입력하세요: \"))\n",
        "num2 = int(input(\"두번째 숫자를 입력하세요: \"))\n",
        "num3 = int(input(\"세번째 숫자를 입력하세요: \"))\n",
        "num4 = int(input(\"네번째 숫자를 입력하세요: \"))\n",
        "\n",
        "var1 = num1>=num2\n",
        "var2 = num2<num4\n",
        "print(var1 and var2)"
      ],
      "execution_count": 21,
      "outputs": [
        {
          "output_type": "stream",
          "name": "stdout",
          "text": [
            "첫번째 숫자를 입력하세요: 1\n",
            "두번째 숫자를 입력하세요: 2\n",
            "세번째 숫자를 입력하세요: 3\n",
            "네번째 숫자를 입력하세요: 4\n",
            "False\n"
          ]
        }
      ]
    },
    {
      "cell_type": "markdown",
      "metadata": {
        "id": "Mv40O4hlWJXn"
      },
      "source": [
        "String Operators"
      ]
    },
    {
      "cell_type": "code",
      "metadata": {
        "colab": {
          "base_uri": "https://localhost:8080/"
        },
        "id": "HqMaCCYCWNF3",
        "outputId": "2c495ef2-c560-44e6-c7ef-88a2457409c4"
      },
      "source": [
        "str1 = \"kim \"\n",
        "str2 = \"jeewon \"\n",
        "print('str1 + str2 = ', str1+ str2)\n",
        "name = str1 + str2\n",
        "print('name*10=', name*3)"
      ],
      "execution_count": 84,
      "outputs": [
        {
          "output_type": "stream",
          "name": "stdout",
          "text": [
            "str1 + str2 =  kim jeewon \n",
            "name*10= kim jeewon kim jeewon kim jeewon \n"
          ]
        }
      ]
    },
    {
      "cell_type": "markdown",
      "metadata": {
        "id": "-c8NPRKJYWHV"
      },
      "source": [
        "Indexing"
      ]
    },
    {
      "cell_type": "code",
      "metadata": {
        "colab": {
          "base_uri": "https://localhost:8080/"
        },
        "id": "rTgxD4o5YZ71",
        "outputId": "ade9955e-3888-4483-e541-b66a3d42fdb2"
      },
      "source": [
        "greeting = \"Hello Kaggle\"\n",
        "print(greeting[5])"
      ],
      "execution_count": 25,
      "outputs": [
        {
          "output_type": "stream",
          "name": "stdout",
          "text": [
            " \n"
          ]
        }
      ]
    },
    {
      "cell_type": "markdown",
      "metadata": {
        "id": "Q1_RgW1zYjz8"
      },
      "source": [
        "Slicing"
      ]
    },
    {
      "cell_type": "code",
      "metadata": {
        "colab": {
          "base_uri": "https://localhost:8080/"
        },
        "id": "vH8u7hVbYilk",
        "outputId": "9455fcc3-ac91-4425-d297-66c357e393a6"
      },
      "source": [
        "greeting = \"Hello Kaggle\"\n",
        "print(greeting[:])\n",
        "print(greeting[6:])\n",
        "print(greeting[:6])\n",
        "print(greeting[1:2])\n",
        "print(greeting[0:10:3])"
      ],
      "execution_count": 26,
      "outputs": [
        {
          "output_type": "stream",
          "name": "stdout",
          "text": [
            "Hello Kaggle\n",
            "Kaggle\n",
            "Hello \n",
            "e\n",
            "HlKg\n"
          ]
        }
      ]
    },
    {
      "cell_type": "code",
      "metadata": {
        "colab": {
          "base_uri": "https://localhost:8080/",
          "height": 172
        },
        "id": "hJxX4z2zd1kt",
        "outputId": "b8b19a1b-9f5e-4833-8860-b49222fb1869"
      },
      "source": [
        "greeting[12]\n",
        "#총 열두자리 이므로 인덱스는 11번까지 있음"
      ],
      "execution_count": 31,
      "outputs": [
        {
          "output_type": "error",
          "ename": "IndexError",
          "evalue": "ignored",
          "traceback": [
            "\u001b[0;31m---------------------------------------------------------------------------\u001b[0m",
            "\u001b[0;31mIndexError\u001b[0m                                Traceback (most recent call last)",
            "\u001b[0;32m<ipython-input-31-b5cd438427e1>\u001b[0m in \u001b[0;36m<module>\u001b[0;34m()\u001b[0m\n\u001b[0;32m----> 1\u001b[0;31m \u001b[0mgreeting\u001b[0m\u001b[0;34m[\u001b[0m\u001b[0;36m12\u001b[0m\u001b[0;34m]\u001b[0m\u001b[0;34m\u001b[0m\u001b[0;34m\u001b[0m\u001b[0m\n\u001b[0m",
            "\u001b[0;31mIndexError\u001b[0m: string index out of range"
          ]
        }
      ]
    },
    {
      "cell_type": "markdown",
      "metadata": {
        "id": "ENJaX8o7eEOV"
      },
      "source": [
        "리스트   #가장 많이 사용"
      ]
    },
    {
      "cell_type": "code",
      "metadata": {
        "colab": {
          "base_uri": "https://localhost:8080/"
        },
        "id": "dtAtjDNkeGj9",
        "outputId": "1b747787-87a5-4553-c382-c6027eac9efb"
      },
      "source": [
        "a=[]\n",
        "a_func=list()\n",
        "b=[1]\n",
        "c=['apple']\n",
        "d=[1,2,['apple']]\n",
        "\n",
        "print(a)\n",
        "print(a_func)\n",
        "print(b)\n",
        "print(c)\n",
        "print(d)"
      ],
      "execution_count": 33,
      "outputs": [
        {
          "output_type": "stream",
          "name": "stdout",
          "text": [
            "[]\n",
            "[]\n",
            "[1]\n",
            "['apple']\n",
            "[1, 2, ['apple']]\n"
          ]
        }
      ]
    },
    {
      "cell_type": "code",
      "metadata": {
        "colab": {
          "base_uri": "https://localhost:8080/"
        },
        "id": "QkmZfuuLeg_-",
        "outputId": "354aff32-0816-488b-c6fe-66933d4b0a64"
      },
      "source": [
        "a=[['apple','cherry','watermelon'],5]\n",
        "print(a)\n",
        "print(a[0])\n",
        "print(a[1])\n",
        "print(a[0][0])\n",
        "print(a[0][0][0])\n",
        "print(a[0][1])\n",
        "print(a[0][2])\n",
        "print(a[0][2][3])\n"
      ],
      "execution_count": 34,
      "outputs": [
        {
          "output_type": "stream",
          "name": "stdout",
          "text": [
            "[['apple', 'cherry', 'watermelon'], 5]\n",
            "['apple', 'cherry', 'watermelon']\n",
            "5\n",
            "apple\n",
            "a\n",
            "cherry\n",
            "watermelon\n",
            "e\n"
          ]
        }
      ]
    },
    {
      "cell_type": "code",
      "metadata": {
        "colab": {
          "base_uri": "https://localhost:8080/"
        },
        "id": "xMOuthEQfAG_",
        "outputId": "e79836f2-6bd4-4f46-c31e-0160f2266d15"
      },
      "source": [
        "a=[[1, 2, 3], 5]\n",
        "print(a[0])\n",
        "print(a[1])\n",
        "print(a[0][1])\n",
        "print(a[0][2])\n",
        "print(a[-1])"
      ],
      "execution_count": 38,
      "outputs": [
        {
          "output_type": "stream",
          "name": "stdout",
          "text": [
            "[1, 2, 3]\n",
            "5\n",
            "2\n",
            "3\n",
            "5\n"
          ]
        }
      ]
    },
    {
      "cell_type": "code",
      "metadata": {
        "colab": {
          "base_uri": "https://localhost:8080/"
        },
        "id": "77x-eZ6Mfqrt",
        "outputId": "bbdbc949-24cd-4158-91ed-dff671918453"
      },
      "source": [
        "a=[1,2,3,4,5,6,7,8,9,10]\n",
        "print(a[:])       #전체 출력\n",
        "print(a[:4])      #인덱스 0부터 3까지\n",
        "print(a[0:7:2])   #인덱스 0부터 6까지 2씩 건너 띄우기\n",
        "print(a[::-1])    #리스트 a의 역순\n",
        "print(a[::2])     #리스트 전체 구간에서 인덱스 2씩 건너띄우기"
      ],
      "execution_count": 85,
      "outputs": [
        {
          "output_type": "stream",
          "name": "stdout",
          "text": [
            "[1, 2, 3, 4, 5, 6, 7, 8, 9, 10]\n",
            "[1, 2, 3, 4]\n",
            "[1, 3, 5, 7]\n",
            "[10, 9, 8, 7, 6, 5, 4, 3, 2, 1]\n",
            "[1, 3, 5, 7, 9]\n"
          ]
        }
      ]
    },
    {
      "cell_type": "code",
      "metadata": {
        "colab": {
          "base_uri": "https://localhost:8080/"
        },
        "id": "5UDKT_6LT7mW",
        "outputId": "21e7f1a0-5f12-4e5d-a093-43d2be163ab9"
      },
      "source": [
        "a = ['alice', 'bob', 'cat']\n",
        "b = ['apple', 'banana', 'cherry']\n",
        "c = a+b\n",
        "\n",
        "print(c)"
      ],
      "execution_count": 86,
      "outputs": [
        {
          "output_type": "stream",
          "name": "stdout",
          "text": [
            "['alice', 'bob', 'cat', 'apple', 'banana', 'cherry']\n"
          ]
        }
      ]
    },
    {
      "cell_type": "code",
      "metadata": {
        "colab": {
          "base_uri": "https://localhost:8080/"
        },
        "id": "xpeUQA8zgS8t",
        "outputId": "10bff63c-eebd-42a0-c6e6-72c6a6e8b37b"
      },
      "source": [
        "a=['a','b','c']\n",
        "b=a*3\n",
        "c=a*0\n",
        "print(b)\n",
        "print(c)"
      ],
      "execution_count": 46,
      "outputs": [
        {
          "output_type": "stream",
          "name": "stdout",
          "text": [
            "['a', 'b', 'c', 'a', 'b', 'c', 'a', 'b', 'c']\n",
            "[]\n"
          ]
        }
      ]
    },
    {
      "cell_type": "markdown",
      "metadata": {
        "id": "U6zT4_-8gsft"
      },
      "source": [
        "리스트 값 수정하기"
      ]
    },
    {
      "cell_type": "code",
      "metadata": {
        "colab": {
          "base_uri": "https://localhost:8080/"
        },
        "id": "X1YJ826EguWF",
        "outputId": "bcf0dab3-2707-4e24-c413-04cadb45a728"
      },
      "source": [
        "a =[0,1,2]\n",
        "a[1] =\"b\"\n",
        "print(a)"
      ],
      "execution_count": 47,
      "outputs": [
        {
          "output_type": "stream",
          "name": "stdout",
          "text": [
            "[0, 'b', 2]\n"
          ]
        }
      ]
    },
    {
      "cell_type": "markdown",
      "metadata": {
        "id": "JdVLgGEDg1Fd"
      },
      "source": [
        "리스트 값 추가하기"
      ]
    },
    {
      "cell_type": "code",
      "metadata": {
        "colab": {
          "base_uri": "https://localhost:8080/"
        },
        "id": "LhINLz2sg2uY",
        "outputId": "6cb76bbb-08ef-4550-b6a6-9d76ba1e1445"
      },
      "source": [
        "a=[100, 200, 300]\n",
        "a.append(400)\n",
        "a.append(500)\n",
        "print(a)\n",
        "#append 하나씩 더해줌\n",
        "\n",
        "a.append([600,700])\n",
        "print(a)"
      ],
      "execution_count": 50,
      "outputs": [
        {
          "output_type": "stream",
          "name": "stdout",
          "text": [
            "[100, 200, 300, 400, 500]\n",
            "[100, 200, 300, 400, 500, [600, 700]]\n"
          ]
        }
      ]
    },
    {
      "cell_type": "code",
      "metadata": {
        "colab": {
          "base_uri": "https://localhost:8080/"
        },
        "id": "Wb4vZb-OhMIg",
        "outputId": "4be2dcad-4647-41d4-ade8-b02852427dcf"
      },
      "source": [
        "a =[1,2,3]\n",
        "a.extend([40,500])\n",
        "print(a)\n",
        "#extend 한번에 더해줌"
      ],
      "execution_count": 51,
      "outputs": [
        {
          "output_type": "stream",
          "name": "stdout",
          "text": [
            "[1, 2, 3, 40, 500]\n"
          ]
        }
      ]
    },
    {
      "cell_type": "code",
      "metadata": {
        "colab": {
          "base_uri": "https://localhost:8080/"
        },
        "id": "186q0ZNkhZad",
        "outputId": "c373eb09-781b-4297-c617-8b44429d0ee5"
      },
      "source": [
        "a =[1,2,3]\n",
        "a.insert(1,100)\n",
        "a.insert(2,200)\n",
        "a.insert(3,300)\n",
        "print(a)\n",
        "#insert(a,b) a번째에 b를 삽입"
      ],
      "execution_count": 54,
      "outputs": [
        {
          "output_type": "stream",
          "name": "stdout",
          "text": [
            "[1, 100, 200, 300, 2, 3]\n"
          ]
        }
      ]
    },
    {
      "cell_type": "code",
      "metadata": {
        "colab": {
          "base_uri": "https://localhost:8080/"
        },
        "id": "Kh9GlpBMh6LP",
        "outputId": "ba236f18-01af-4de0-cd0b-35581ed7edc8"
      },
      "source": [
        "a =[1,2,3]\n",
        "a[2:2]=[100,200]\n",
        "print(a)\n",
        "\n",
        "#시작과 끝의 범위보다 큰 수를 덮어쓰는 예시\n",
        "b=[0,1,2,3]\n",
        "b[1:4]=[100,200,300,400]  \n",
        "print(b)\n",
        "\n",
        "#시작과 끝의 범위가 작을때의 예시\n",
        "c=[0,1,2,3]\n",
        "c[1:3]=[100]\n",
        "print(c)"
      ],
      "execution_count": 62,
      "outputs": [
        {
          "output_type": "stream",
          "name": "stdout",
          "text": [
            "[1, 2, 100, 200, 3]\n",
            "[0, 100, 200, 300, 400]\n",
            "[0, 100, 3]\n"
          ]
        }
      ]
    },
    {
      "cell_type": "markdown",
      "metadata": {
        "id": "JjpfU-lYi6tN"
      },
      "source": [
        "리스트 값 삭제하기"
      ]
    },
    {
      "cell_type": "code",
      "metadata": {
        "colab": {
          "base_uri": "https://localhost:8080/"
        },
        "id": "B_jOqDAWi5rP",
        "outputId": "1415296f-31af-4f28-a550-c26b1dbe6a93"
      },
      "source": [
        "a=[1,2,1,2]\n",
        "\n",
        "a.remove(1)\n",
        "print(a)\n",
        "\n",
        "a.remove(1)\n",
        "print(a)"
      ],
      "execution_count": 66,
      "outputs": [
        {
          "output_type": "stream",
          "name": "stdout",
          "text": [
            "[2, 1, 2]\n",
            "[2, 2]\n"
          ]
        }
      ]
    },
    {
      "cell_type": "code",
      "metadata": {
        "colab": {
          "base_uri": "https://localhost:8080/"
        },
        "id": "kBKzNDAFjSst",
        "outputId": "65e68a00-2e30-4d42-ac44-c67a806c52da"
      },
      "source": [
        "a=[0,1,2,3,4,5,6,7,8,9]\n",
        "\n",
        "del a[1]\n",
        "print(a)\n",
        "\n",
        "b=[0,1,2,3,4,5,6,7,8,9]\n",
        "del b[1:4]        #n부터 n-1까지의 범위를 삭제\n",
        "print(b)"
      ],
      "execution_count": 67,
      "outputs": [
        {
          "output_type": "stream",
          "name": "stdout",
          "text": [
            "[0, 2, 3, 4, 5, 6, 7, 8, 9]\n",
            "[0, 4, 5, 6, 7, 8, 9]\n"
          ]
        }
      ]
    },
    {
      "cell_type": "code",
      "metadata": {
        "colab": {
          "base_uri": "https://localhost:8080/"
        },
        "id": "1_WA1z_8jnCW",
        "outputId": "d5034143-6c66-4d76-c4d3-95ebb856e393"
      },
      "source": [
        "#인덱스를 지정한 pop()\n",
        "\n",
        "a=[0,1,2,3,4]\n",
        "r=a.pop(1)\n",
        "\n",
        "print(a)\n",
        "print(r)"
      ],
      "execution_count": 68,
      "outputs": [
        {
          "output_type": "stream",
          "name": "stdout",
          "text": [
            "[0, 2, 3, 4]\n",
            "1\n"
          ]
        }
      ]
    },
    {
      "cell_type": "code",
      "metadata": {
        "colab": {
          "base_uri": "https://localhost:8080/"
        },
        "id": "3D0GvLj0j0Bd",
        "outputId": "647078ed-17e8-4472-a340-f84b6ba95e23"
      },
      "source": [
        "#인덱스를 지정하지 않은 pop()\n",
        "#pop 리스트의 맨 마지막 요소를 돌려주고 그 값을 삭제\n",
        "b = ['a','b','c','d']\n",
        "x =b.pop()\n",
        "\n",
        "print(b)\n",
        "print(x)"
      ],
      "execution_count": 69,
      "outputs": [
        {
          "output_type": "stream",
          "name": "stdout",
          "text": [
            "['a', 'b', 'c']\n",
            "d\n"
          ]
        }
      ]
    },
    {
      "cell_type": "markdown",
      "metadata": {
        "id": "VZhF85A9qkBF"
      },
      "source": [
        "튜플"
      ]
    },
    {
      "cell_type": "code",
      "metadata": {
        "colab": {
          "base_uri": "https://localhost:8080/"
        },
        "id": "sETbZppDq_m3",
        "outputId": "af2e851b-2222-411a-ee73-f917e74621c2"
      },
      "source": [
        "#리스트는 []\n",
        "#튜플은 ()\n",
        "\n",
        "tuple1 = (0)\n",
        "tuple2 = (0,)\n",
        "tuple3 = 0,1,2\n",
        "\n",
        "print(tuple1)\n",
        "print(tuple2)\n",
        "print(tuple3)\n",
        "\n",
        "print(type(tuple1)) #콤마를 붙여주지 않으면 튜플이 아니다\n",
        "print(type(tuple2)) #콤마를 붙여줘야 튜플 자료형이 된다\n",
        "print(type(tuple3)) #여러개 값일 경우 괄호를 없애주어도 튜플 자료형이다"
      ],
      "execution_count": 71,
      "outputs": [
        {
          "output_type": "stream",
          "name": "stdout",
          "text": [
            "0\n",
            "(0,)\n",
            "(0, 1, 2)\n",
            "<class 'int'>\n",
            "<class 'tuple'>\n",
            "<class 'tuple'>\n"
          ]
        }
      ]
    },
    {
      "cell_type": "code",
      "metadata": {
        "colab": {
          "base_uri": "https://localhost:8080/"
        },
        "id": "DYmN6se8X68z",
        "outputId": "f0bb2776-5acf-4520-c7c5-a7f310fb8056"
      },
      "source": [
        "t = (0,1,2,'b',4)\n",
        "\n",
        "print(t[1])\n",
        "print(t[3])"
      ],
      "execution_count": 100,
      "outputs": [
        {
          "output_type": "stream",
          "name": "stdout",
          "text": [
            "1\n",
            "b\n"
          ]
        }
      ]
    },
    {
      "cell_type": "code",
      "metadata": {
        "colab": {
          "base_uri": "https://localhost:8080/"
        },
        "id": "7E619Oz_X94s",
        "outputId": "8510d7ea-e87f-456b-b51c-2b3e1e566063"
      },
      "source": [
        "t = (0,1,2,3,4)\n",
        "print(t[2:])\n",
        "print(t[0:2])"
      ],
      "execution_count": 101,
      "outputs": [
        {
          "output_type": "stream",
          "name": "stdout",
          "text": [
            "(2, 3, 4)\n",
            "(0, 1)\n"
          ]
        }
      ]
    },
    {
      "cell_type": "markdown",
      "metadata": {
        "id": "1C9mcjnPW6ME"
      },
      "source": [
        "딕셔너리"
      ]
    },
    {
      "cell_type": "code",
      "metadata": {
        "colab": {
          "base_uri": "https://localhost:8080/"
        },
        "id": "UhxlRza0W5Zc",
        "outputId": "0668b83a-d62c-4907-b1e0-8bbf326de6e7"
      },
      "source": [
        "#딕셔너리는 자바에서 배열과 비슷\n",
        "#{Key1:Value1, Key2:Value2, Key3:Value3, ...}\n",
        "dic = {'teacher':'alice', 'class': 5, 'studentid': '15', 'list':[1,2,3]}\n",
        "\n",
        "print(dic['teacher'])\n",
        "print(dic['class'])\n",
        "print(dic['list'])"
      ],
      "execution_count": 94,
      "outputs": [
        {
          "output_type": "stream",
          "name": "stdout",
          "text": [
            "alice\n",
            "5\n",
            "[1, 2, 3]\n"
          ]
        }
      ]
    },
    {
      "cell_type": "code",
      "metadata": {
        "colab": {
          "base_uri": "https://localhost:8080/"
        },
        "id": "YQmp0fpEW_Rj",
        "outputId": "393fd7db-926a-4c81-f730-0806e9ca7ac1"
      },
      "source": [
        "dic = {'teacher':'alice', 'class': 5, 'studentid': '15', 'list':[1,2,3]}\n",
        "print(dic['list'])"
      ],
      "execution_count": 96,
      "outputs": [
        {
          "output_type": "stream",
          "name": "stdout",
          "text": [
            "[1, 2, 3]\n"
          ]
        }
      ]
    },
    {
      "cell_type": "code",
      "metadata": {
        "colab": {
          "base_uri": "https://localhost:8080/"
        },
        "id": "RtiNaP95XfYe",
        "outputId": "af4c8a25-0389-44f7-ad72-a2d0af568171"
      },
      "source": [
        "a = {'name': 'bob', 'job': 'farmer', 'age': 35}\n",
        "a.keys()"
      ],
      "execution_count": 97,
      "outputs": [
        {
          "output_type": "execute_result",
          "data": {
            "text/plain": [
              "dict_keys(['name', 'job', 'age'])"
            ]
          },
          "metadata": {},
          "execution_count": 97
        }
      ]
    },
    {
      "cell_type": "code",
      "metadata": {
        "colab": {
          "base_uri": "https://localhost:8080/"
        },
        "id": "SlprfPX2XiGE",
        "outputId": "cec5e901-ec42-48c7-e49a-2d65baf6f613"
      },
      "source": [
        "a = {'name': 'bob', 'job': 'farmer', 'age': 35}\n",
        "a.values()"
      ],
      "execution_count": 98,
      "outputs": [
        {
          "output_type": "execute_result",
          "data": {
            "text/plain": [
              "dict_values(['bob', 'farmer', 35])"
            ]
          },
          "metadata": {},
          "execution_count": 98
        }
      ]
    },
    {
      "cell_type": "code",
      "metadata": {
        "colab": {
          "base_uri": "https://localhost:8080/"
        },
        "id": "Pe9yE-IpXjWb",
        "outputId": "40830909-b600-4443-c469-36c36230ac4a"
      },
      "source": [
        "a = {'name': 'chris', 'job': 'painter', 'age': 30}\n",
        "print(a.get('name'))\n",
        "print(a.get('dinner'))\n",
        "print(a.get('dinner', 'empty'))"
      ],
      "execution_count": 99,
      "outputs": [
        {
          "output_type": "stream",
          "name": "stdout",
          "text": [
            "chris\n",
            "None\n",
            "empty\n"
          ]
        }
      ]
    },
    {
      "cell_type": "markdown",
      "metadata": {
        "id": "cB9BH8oxWWO-"
      },
      "source": [
        "집합연산자"
      ]
    },
    {
      "cell_type": "code",
      "metadata": {
        "colab": {
          "base_uri": "https://localhost:8080/"
        },
        "id": "MlEvOacNWVoF",
        "outputId": "2ed8d0c6-c0b7-4a6a-8c6b-90d62dd32074"
      },
      "source": [
        "s = {}\n",
        "print(type(s))\n",
        "\n",
        "s = set()\n",
        "print(type(s))\n",
        "\n",
        "s = {1,2,3}\n",
        "print(type(s))"
      ],
      "execution_count": 88,
      "outputs": [
        {
          "output_type": "stream",
          "name": "stdout",
          "text": [
            "<class 'dict'>\n",
            "<class 'set'>\n",
            "<class 'set'>\n"
          ]
        }
      ]
    },
    {
      "cell_type": "code",
      "metadata": {
        "colab": {
          "base_uri": "https://localhost:8080/"
        },
        "id": "6jkrJTvOWfyT",
        "outputId": "0460d100-c137-4d8f-e1ab-a35551dc91ce"
      },
      "source": [
        "a = {1,3,5}\n",
        "b = {2,4,6}\n",
        "\n",
        "c = a|b\n",
        "d = a.union(b)\n",
        "print(\"a|b:\", c)\n",
        "print(\"a.union(b)\", d)"
      ],
      "execution_count": 89,
      "outputs": [
        {
          "output_type": "stream",
          "name": "stdout",
          "text": [
            "a|b: {1, 2, 3, 4, 5, 6}\n",
            "a.union(b) {1, 2, 3, 4, 5, 6}\n"
          ]
        }
      ]
    },
    {
      "cell_type": "code",
      "metadata": {
        "colab": {
          "base_uri": "https://localhost:8080/"
        },
        "id": "g0ou2KIHWqgr",
        "outputId": "89d29637-68da-4c9f-980d-3e81121715c8"
      },
      "source": [
        "a = {1,3,5}\n",
        "b = {2,4,6}\n",
        "c = a&b\n",
        "print(c)\n",
        "\n",
        "e = {1,2,5}\n",
        "f = {2,3,5}\n",
        "g1 = e&f\n",
        "g2 = e.intersection(f)\n",
        "print(\"e&f:\", g1)\n",
        "print(\"e.intersection(f):\", g2)"
      ],
      "execution_count": 90,
      "outputs": [
        {
          "output_type": "stream",
          "name": "stdout",
          "text": [
            "set()\n",
            "e&f: {2, 5}\n",
            "e.intersection(f): {2, 5}\n"
          ]
        }
      ]
    },
    {
      "cell_type": "code",
      "metadata": {
        "colab": {
          "base_uri": "https://localhost:8080/"
        },
        "id": "5kz2td-kWxWc",
        "outputId": "8d4abb97-a350-4783-81bd-79927f53a9af"
      },
      "source": [
        "a = {1,3,5}\n",
        "b = {2,4,5}\n",
        "\n",
        "c1 = a-b\n",
        "c2 = a.difference(b)\n",
        "print(\"a-b:\", c1)\n",
        "print(\"a.difference(b)\", c2)"
      ],
      "execution_count": 93,
      "outputs": [
        {
          "output_type": "stream",
          "name": "stdout",
          "text": [
            "a-b: {1, 3}\n",
            "a.difference(b) {1, 3}\n"
          ]
        }
      ]
    },
    {
      "cell_type": "code",
      "metadata": {
        "colab": {
          "base_uri": "https://localhost:8080/"
        },
        "id": "Tb6rjB-SWyR_",
        "outputId": "60058496-0e2e-48d7-c54c-2929cca0c78d"
      },
      "source": [
        "a = {1,2,3,4,5}\n",
        "b = {3,4,5,6,7}\n",
        "\n",
        "c1 = a^b\n",
        "c2 = a.symmetric_difference(b)\n",
        "print(\"a^b\", c1)\n",
        "print(\"a.symmetric_difference(b)\", c2)"
      ],
      "execution_count": 92,
      "outputs": [
        {
          "output_type": "stream",
          "name": "stdout",
          "text": [
            "a^b {1, 2, 6, 7}\n",
            "a.symmetric_difference(b) {1, 2, 6, 7}\n"
          ]
        }
      ]
    },
    {
      "cell_type": "markdown",
      "metadata": {
        "id": "U00h91jFr-Ec"
      },
      "source": [
        "if조건문"
      ]
    },
    {
      "cell_type": "code",
      "metadata": {
        "colab": {
          "base_uri": "https://localhost:8080/"
        },
        "id": "NnU7_mUtr_dQ",
        "outputId": "9218ee43-31ba-43d5-dc85-56c5fab8397f"
      },
      "source": [
        "grade = int(input(\"점수를 입력하세요\"))\n",
        "\n",
        "if grade > 90:\n",
        "  print(\"A\")\n",
        "elif grade > 80:\n",
        "  print(\"B\")\n",
        "elif grade >70:\n",
        "  print(\"C\")\n",
        "else:\n",
        "  print(\"D\")"
      ],
      "execution_count": 75,
      "outputs": [
        {
          "output_type": "stream",
          "name": "stdout",
          "text": [
            "점수를 입력하세요100\n",
            "A\n"
          ]
        }
      ]
    },
    {
      "cell_type": "markdown",
      "metadata": {
        "id": "au2zDJ9mstzu"
      },
      "source": [
        "반복문"
      ]
    },
    {
      "cell_type": "code",
      "metadata": {
        "colab": {
          "base_uri": "https://localhost:8080/"
        },
        "id": "BxQuHvqLsu54",
        "outputId": "05d76e87-43c6-4a2c-90b8-add29e8308f3"
      },
      "source": [
        "for i in range(10):\n",
        "  print(\"Hello World\")"
      ],
      "execution_count": 78,
      "outputs": [
        {
          "output_type": "stream",
          "name": "stdout",
          "text": [
            "Hello World\n",
            "Hello World\n",
            "Hello World\n",
            "Hello World\n",
            "Hello World\n",
            "Hello World\n",
            "Hello World\n",
            "Hello World\n",
            "Hello World\n",
            "Hello World\n"
          ]
        }
      ]
    },
    {
      "cell_type": "code",
      "metadata": {
        "colab": {
          "base_uri": "https://localhost:8080/"
        },
        "id": "DHz_wSphs90F",
        "outputId": "82d46313-1916-4f30-c6bd-25a30646de72"
      },
      "source": [
        "a =\"Kaggle\"\n",
        "for x in a:\n",
        "  print(x)\n",
        "\n",
        "  if x =='l':\n",
        "    break"
      ],
      "execution_count": 81,
      "outputs": [
        {
          "output_type": "stream",
          "name": "stdout",
          "text": [
            "K\n",
            "a\n",
            "g\n",
            "g\n",
            "l\n"
          ]
        }
      ]
    },
    {
      "cell_type": "code",
      "metadata": {
        "colab": {
          "base_uri": "https://localhost:8080/"
        },
        "id": "502RrA6vV-Bz",
        "outputId": "b9cd08fa-bcf1-4bed-b065-91b1b26086c3"
      },
      "source": [
        "#enumerate() 함수는 기본적으로 인덱스와 원소로 이루어진 튜플을 만들어줌\n",
        "alphabets = ['A', 'B', 'C']\n",
        "for index, value in enumerate(alphabets):\n",
        "    print(index, value)"
      ],
      "execution_count": 87,
      "outputs": [
        {
          "output_type": "stream",
          "name": "stdout",
          "text": [
            "0 A\n",
            "1 B\n",
            "2 C\n"
          ]
        }
      ]
    }
  ]
}