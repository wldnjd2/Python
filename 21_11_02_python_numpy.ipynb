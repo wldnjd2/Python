{
  "nbformat": 4,
  "nbformat_minor": 0,
  "metadata": {
    "colab": {
      "name": "211102_numpy.ipynb",
      "provenance": [],
      "collapsed_sections": [],
      "authorship_tag": "ABX9TyOGlLPjVqe9VEOa1mzrEqV6",
      "include_colab_link": true
    },
    "kernelspec": {
      "name": "python3",
      "display_name": "Python 3"
    },
    "language_info": {
      "name": "python"
    }
  },
  "cells": [
    {
      "cell_type": "markdown",
      "metadata": {
        "id": "view-in-github",
        "colab_type": "text"
      },
      "source": [
        "<a href=\"https://colab.research.google.com/github/wldnjd2/Python/blob/main/21_11_02_python_numpy.ipynb\" target=\"_parent\"><img src=\"https://colab.research.google.com/assets/colab-badge.svg\" alt=\"Open In Colab\"/></a>"
      ]
    },
    {
      "cell_type": "markdown",
      "metadata": {
        "id": "RcCmFI9Gq1aN"
      },
      "source": [
        "라이브러리 불러오기"
      ]
    },
    {
      "cell_type": "code",
      "metadata": {
        "colab": {
          "base_uri": "https://localhost:8080/"
        },
        "id": "wCz-YU0FpL8x",
        "outputId": "d9a84141-292d-4ba2-f3ec-b728caf9b0e2"
      },
      "source": [
        "import numpy as np\n",
        "print (np.__version__)"
      ],
      "execution_count": 11,
      "outputs": [
        {
          "output_type": "stream",
          "name": "stdout",
          "text": [
            "1.19.5\n"
          ]
        }
      ]
    },
    {
      "cell_type": "markdown",
      "metadata": {
        "id": "y2H4dThkpaKz"
      },
      "source": [
        "테스트"
      ]
    },
    {
      "cell_type": "code",
      "metadata": {
        "colab": {
          "base_uri": "https://localhost:8080/"
        },
        "id": "IoiQyOWQpZc0",
        "outputId": "047714f9-2ba5-4d57-961b-9481d655a517"
      },
      "source": [
        "#배열 생성\n",
        "temp = np.array([1, 2, 3])\n",
        "print(type(temp))"
      ],
      "execution_count": 6,
      "outputs": [
        {
          "output_type": "stream",
          "name": "stdout",
          "text": [
            "<class 'numpy.ndarray'>\n"
          ]
        }
      ]
    },
    {
      "cell_type": "markdown",
      "metadata": {
        "id": "BTgaZNmPqMD7"
      },
      "source": [
        "Numpy 배열 생성 및 둘러보기"
      ]
    },
    {
      "cell_type": "code",
      "metadata": {
        "colab": {
          "base_uri": "https://localhost:8080/"
        },
        "id": "ZXyWlgeCqP5T",
        "outputId": "913ed7da-7dc8-475d-a90b-0ef3b072142c"
      },
      "source": [
        "data1 = [1,2,3]     #python list를 이용함\n",
        "data1"
      ],
      "execution_count": 8,
      "outputs": [
        {
          "output_type": "execute_result",
          "data": {
            "text/plain": [
              "[1, 1, 2, 2, 3, 4]"
            ]
          },
          "metadata": {},
          "execution_count": 8
        }
      ]
    },
    {
      "cell_type": "code",
      "metadata": {
        "colab": {
          "base_uri": "https://localhost:8080/"
        },
        "id": "cA8MbIGbqes8",
        "outputId": "57aa4371-f924-4526-8412-d0fa65806571"
      },
      "source": [
        "data2 = [1,1,2,2,3,4]\n",
        "data2"
      ],
      "execution_count": 9,
      "outputs": [
        {
          "output_type": "execute_result",
          "data": {
            "text/plain": [
              "[1, 1, 2, 2, 3, 4]"
            ]
          },
          "metadata": {},
          "execution_count": 9
        }
      ]
    },
    {
      "cell_type": "code",
      "metadata": {
        "colab": {
          "base_uri": "https://localhost:8080/"
        },
        "id": "-rJmWT3gqgIN",
        "outputId": "478904ac-8b26-4cca-b71f-e8ae10043f70"
      },
      "source": [
        "my_array1 = np.array(data1)   #numpy를 이용하여 array 정의\n",
        "print(my_array1)\n",
        "print(my_array1.shape)    #my_array1의 형태를 확인"
      ],
      "execution_count": 12,
      "outputs": [
        {
          "output_type": "stream",
          "name": "stdout",
          "text": [
            "[1 2 3]\n",
            "(3,)\n"
          ]
        }
      ]
    },
    {
      "cell_type": "code",
      "metadata": {
        "colab": {
          "base_uri": "https://localhost:8080/"
        },
        "id": "kGj57UGwrCvs",
        "outputId": "d74d0d9d-8e61-4970-e5d5-ad56ae377d18"
      },
      "source": [
        "my_array2 = np.array(data2)\n",
        "print(my_array2)\n",
        "print(my_array2.shape)"
      ],
      "execution_count": 14,
      "outputs": [
        {
          "output_type": "stream",
          "name": "stdout",
          "text": [
            "[1 1 2 2 3 4]\n",
            "(6,)\n"
          ]
        }
      ]
    },
    {
      "cell_type": "code",
      "metadata": {
        "colab": {
          "base_uri": "https://localhost:8080/"
        },
        "id": "hblc58DOrOuF",
        "outputId": "652ab11b-e9b2-4c98-9827-023b01596ad7"
      },
      "source": [
        "my_array3 = np.array([3,6,9,12])\n",
        "print(my_array3)\n",
        "print(my_array3.shape)\n",
        "print(my_array3.dtype)    #my_array3의 데이터타입 확인"
      ],
      "execution_count": 15,
      "outputs": [
        {
          "output_type": "stream",
          "name": "stdout",
          "text": [
            "[ 3  6  9 12]\n",
            "(4,)\n",
            "int64\n"
          ]
        }
      ]
    },
    {
      "cell_type": "code",
      "metadata": {
        "colab": {
          "base_uri": "https://localhost:8080/"
        },
        "id": "0Ys99vHVHQXb",
        "outputId": "9a75819d-2d08-4d1e-c336-4f82089e77c7"
      },
      "source": [
        "my_array4 = np.array([[2,4,6,],[8,10,12],[14,16,18],[20,22,24]])\n",
        "print(my_array4)\n",
        "print(my_array4.shape)"
      ],
      "execution_count": 18,
      "outputs": [
        {
          "output_type": "stream",
          "name": "stdout",
          "text": [
            "[[ 2  4  6]\n",
            " [ 8 10 12]\n",
            " [14 16 18]\n",
            " [20 22 24]]\n",
            "(4, 3)\n"
          ]
        }
      ]
    },
    {
      "cell_type": "code",
      "metadata": {
        "colab": {
          "base_uri": "https://localhost:8080/"
        },
        "id": "Zq8yNPcuHxTb",
        "outputId": "ce255c2b-2d76-44e5-ec7e-5c5eb7f77632"
      },
      "source": [
        "my_array5 = np.array([[[1,2], [3,4]], [[5,6],[7,8]]])\n",
        "print(my_array5)\n",
        "my_array5.shape"
      ],
      "execution_count": 21,
      "outputs": [
        {
          "output_type": "stream",
          "name": "stdout",
          "text": [
            "[[[1 2]\n",
            "  [3 4]]\n",
            "\n",
            " [[5 6]\n",
            "  [7 8]]]\n"
          ]
        },
        {
          "output_type": "execute_result",
          "data": {
            "text/plain": [
              "(2, 2, 2)"
            ]
          },
          "metadata": {},
          "execution_count": 21
        }
      ]
    },
    {
      "cell_type": "markdown",
      "metadata": {
        "id": "9TiilqdSIJIL"
      },
      "source": [
        "Numpy 기본 함수들"
      ]
    },
    {
      "cell_type": "markdown",
      "metadata": {
        "id": "ot7LYRJ2JNvy"
      },
      "source": [
        "arange 메소드"
      ]
    },
    {
      "cell_type": "code",
      "metadata": {
        "colab": {
          "base_uri": "https://localhost:8080/"
        },
        "id": "P4RTD5n9IO8E",
        "outputId": "1a575a2a-557d-4163-a057-9ff0cc6fff73"
      },
      "source": [
        "arrange_array = np.arange(5)      #0부터 4까지 정수값 반환\n",
        "arrange_array"
      ],
      "execution_count": 22,
      "outputs": [
        {
          "output_type": "execute_result",
          "data": {
            "text/plain": [
              "array([0, 1, 2, 3, 4])"
            ]
          },
          "metadata": {},
          "execution_count": 22
        }
      ]
    },
    {
      "cell_type": "code",
      "metadata": {
        "colab": {
          "base_uri": "https://localhost:8080/"
        },
        "id": "xcVs-SmnJrla",
        "outputId": "33c7ddc8-f6c2-4e44-9b99-f90f79c3daf3"
      },
      "source": [
        "arrange_array3 = np.arange(1,9)   #1부터 9까지 정수값 반환\n",
        "arrange_array3"
      ],
      "execution_count": 25,
      "outputs": [
        {
          "output_type": "execute_result",
          "data": {
            "text/plain": [
              "array([1, 2, 3, 4, 5, 6, 7, 8])"
            ]
          },
          "metadata": {},
          "execution_count": 25
        }
      ]
    },
    {
      "cell_type": "code",
      "metadata": {
        "colab": {
          "base_uri": "https://localhost:8080/"
        },
        "id": "oT1j52QVIUzs",
        "outputId": "0ade66b4-a949-40c7-f039-91634a191a4c"
      },
      "source": [
        "arrange_array2 = np.arange(1,9,3)   #1부터 8까지 3씩 띄어서 정수값 반환\n",
        "arrange_array2"
      ],
      "execution_count": 23,
      "outputs": [
        {
          "output_type": "execute_result",
          "data": {
            "text/plain": [
              "array([1, 4, 7])"
            ]
          },
          "metadata": {},
          "execution_count": 23
        }
      ]
    },
    {
      "cell_type": "markdown",
      "metadata": {
        "id": "X8Ru4UuEJJ9D"
      },
      "source": [
        "zeroes, ones 메소드"
      ]
    },
    {
      "cell_type": "code",
      "metadata": {
        "colab": {
          "base_uri": "https://localhost:8080/"
        },
        "id": "-QIMmzB7JI4C",
        "outputId": "d694c095-80d6-44d1-c798-891230be0b6f"
      },
      "source": [
        "zeros_array = np.zeros((3,2))\n",
        "print(zeros_array)\n",
        "print(\"Data Type is: \", zeros_array.dtype)      #실수형이라서 0뒤에 .이 붙음\n",
        "print(\"Data Shape is: \", zeros_array.shape)"
      ],
      "execution_count": 27,
      "outputs": [
        {
          "output_type": "stream",
          "name": "stdout",
          "text": [
            "[[0. 0.]\n",
            " [0. 0.]\n",
            " [0. 0.]]\n",
            "Data Type is:  float64\n",
            "Data Shape is:  (3, 2)\n"
          ]
        }
      ]
    },
    {
      "cell_type": "code",
      "metadata": {
        "colab": {
          "base_uri": "https://localhost:8080/"
        },
        "id": "77xMqeqfKSE6",
        "outputId": "d5cee991-a1d9-4103-aa80-671e8176dcd5"
      },
      "source": [
        "ones_array = np.ones((3,4), dtype='int32')\n",
        "print(ones_array)\n",
        "print(\"Data Type is: \", ones_array.dtype)\n",
        "print(\"Data Shape is: \", ones_array.shape)"
      ],
      "execution_count": 28,
      "outputs": [
        {
          "output_type": "stream",
          "name": "stdout",
          "text": [
            "[[1 1 1 1]\n",
            " [1 1 1 1]\n",
            " [1 1 1 1]]\n",
            "Data Type is:  int32\n",
            "Data Shape is:  (3, 4)\n"
          ]
        }
      ]
    },
    {
      "cell_type": "markdown",
      "metadata": {
        "id": "5pQ_HOEZKnc5"
      },
      "source": [
        "reshape"
      ]
    },
    {
      "cell_type": "code",
      "metadata": {
        "colab": {
          "base_uri": "https://localhost:8080/"
        },
        "id": "CyCuuJV0K0Xx",
        "outputId": "5074a265-a206-4d51-9b33-e7fa53afd188"
      },
      "source": [
        "after_reshape = ones_array.reshape(6,2)\n",
        "print(after_reshape)\n",
        "print(\"Data Shape is: \", after_reshape.shape)"
      ],
      "execution_count": 29,
      "outputs": [
        {
          "output_type": "stream",
          "name": "stdout",
          "text": [
            "[[1 1]\n",
            " [1 1]\n",
            " [1 1]\n",
            " [1 1]\n",
            " [1 1]\n",
            " [1 1]]\n",
            "Data Shape is:  (6, 2)\n"
          ]
        }
      ]
    },
    {
      "cell_type": "code",
      "metadata": {
        "colab": {
          "base_uri": "https://localhost:8080/",
          "height": 190
        },
        "id": "fh9O7fEULZYB",
        "outputId": "2353aeba-9f53-45dc-86af-190b937f33e5"
      },
      "source": [
        "after_reshape = ones_array.reshape(5,3)     #크기가 15랑 12랑 안맞아서 Error\n",
        "after_reshape"
      ],
      "execution_count": 31,
      "outputs": [
        {
          "output_type": "error",
          "ename": "ValueError",
          "evalue": "ignored",
          "traceback": [
            "\u001b[0;31m---------------------------------------------------------------------------\u001b[0m",
            "\u001b[0;31mValueError\u001b[0m                                Traceback (most recent call last)",
            "\u001b[0;32m<ipython-input-31-4f21dee813f3>\u001b[0m in \u001b[0;36m<module>\u001b[0;34m()\u001b[0m\n\u001b[0;32m----> 1\u001b[0;31m \u001b[0mafter_reshape\u001b[0m \u001b[0;34m=\u001b[0m \u001b[0mones_array\u001b[0m\u001b[0;34m.\u001b[0m\u001b[0mreshape\u001b[0m\u001b[0;34m(\u001b[0m\u001b[0;36m5\u001b[0m\u001b[0;34m,\u001b[0m\u001b[0;36m3\u001b[0m\u001b[0;34m)\u001b[0m\u001b[0;34m\u001b[0m\u001b[0;34m\u001b[0m\u001b[0m\n\u001b[0m\u001b[1;32m      2\u001b[0m \u001b[0mafter_reshape\u001b[0m\u001b[0;34m\u001b[0m\u001b[0;34m\u001b[0m\u001b[0m\n",
            "\u001b[0;31mValueError\u001b[0m: cannot reshape array of size 12 into shape (5,3)"
          ]
        }
      ]
    },
    {
      "cell_type": "code",
      "metadata": {
        "colab": {
          "base_uri": "https://localhost:8080/"
        },
        "id": "wdksPqTILq96",
        "outputId": "a3d07661-f09a-4ac4-dba1-25d7c3e98b65"
      },
      "source": [
        "#3차원 배열도 가능\n",
        "# 3 x 4 = 12 --> 2 x 3 x 2 =12\n",
        "after_reshape = ones_array.reshape(2,3,2)\n",
        "print(after_reshape)\n",
        "print(\"Data Shape is: \", after_reshape.shape)"
      ],
      "execution_count": 32,
      "outputs": [
        {
          "output_type": "stream",
          "name": "stdout",
          "text": [
            "[[[1 1]\n",
            "  [1 1]\n",
            "  [1 1]]\n",
            "\n",
            " [[1 1]\n",
            "  [1 1]\n",
            "  [1 1]]]\n",
            "Data Shape is:  (2, 3, 2)\n"
          ]
        }
      ]
    },
    {
      "cell_type": "code",
      "metadata": {
        "colab": {
          "base_uri": "https://localhost:8080/"
        },
        "id": "kpI4q-KeMDGz",
        "outputId": "6efdc7c2-2430-4b8f-89f9-dc75470e5f3f"
      },
      "source": [
        "after_reshape2 = ones_array.reshape(-1,6)\n",
        "print(\"reshape(-1,6)?\", after_reshape2.shape)\n",
        "print(after_reshape2)"
      ],
      "execution_count": 38,
      "outputs": [
        {
          "output_type": "stream",
          "name": "stdout",
          "text": [
            "reshape(-1,6)? (2, 6)\n",
            "[[1 1 1 1 1 1]\n",
            " [1 1 1 1 1 1]]\n"
          ]
        }
      ]
    },
    {
      "cell_type": "code",
      "metadata": {
        "colab": {
          "base_uri": "https://localhost:8080/"
        },
        "id": "B3jw10zwMe5y",
        "outputId": "703824b2-a419-49ce-83e8-821c27b5ab12"
      },
      "source": [
        "after_reshape3 = ones_array.reshape(3,-1)\n",
        "print(\"reshape(3,-1)?\",after_reshape3.shape)\n",
        "print(after_reshape3)\n",
        "print(\"Data Shape is: \",after_reshape3.shape)"
      ],
      "execution_count": 36,
      "outputs": [
        {
          "output_type": "stream",
          "name": "stdout",
          "text": [
            "reshape(3,-1)?\n",
            "[[1 1 1 1]\n",
            " [1 1 1 1]\n",
            " [1 1 1 1]]\n",
            "Data Shape is:  (3, 4)\n"
          ]
        }
      ]
    },
    {
      "cell_type": "markdown",
      "metadata": {
        "id": "LgleFAqYNKU6"
      },
      "source": [
        "Numpy 인덱싱과 슬라이딩"
      ]
    },
    {
      "cell_type": "code",
      "metadata": {
        "colab": {
          "base_uri": "https://localhost:8080/"
        },
        "id": "1b1fc0jcNMsK",
        "outputId": "67cc49ac-842a-4c08-a878-fa6c8dc7d6a6"
      },
      "source": [
        "my_array = np.arange(start=0, stop=4)\n",
        "print(my_array)"
      ],
      "execution_count": 39,
      "outputs": [
        {
          "output_type": "stream",
          "name": "stdout",
          "text": [
            "[0 1 2 3]\n"
          ]
        }
      ]
    },
    {
      "cell_type": "code",
      "metadata": {
        "colab": {
          "base_uri": "https://localhost:8080/"
        },
        "id": "BfVa6R5ANaHQ",
        "outputId": "6f63c72e-f1f9-4e0d-8c36-f0356fe1fd6b"
      },
      "source": [
        "print(\"my_array의 1번째 요소, 즉 위치값이 0인 것은: \", my_array[0])"
      ],
      "execution_count": 40,
      "outputs": [
        {
          "output_type": "stream",
          "name": "stdout",
          "text": [
            "my_array의 1번째 요소, 즉 위치값이 0인 것은:  0\n"
          ]
        }
      ]
    },
    {
      "cell_type": "code",
      "metadata": {
        "colab": {
          "base_uri": "https://localhost:8080/"
        },
        "id": "jOZ9G0ywNjlx",
        "outputId": "12b9cb50-c41d-48ab-a504-11c606e9717b"
      },
      "source": [
        "my_array2 = np.arange(start=3,stop=30,step=3)\n",
        "my_array2 = my_array2.reshape(3,3)\n",
        "my_array2"
      ],
      "execution_count": 41,
      "outputs": [
        {
          "output_type": "execute_result",
          "data": {
            "text/plain": [
              "array([[ 3,  6,  9],\n",
              "       [12, 15, 18],\n",
              "       [21, 24, 27]])"
            ]
          },
          "metadata": {},
          "execution_count": 41
        }
      ]
    },
    {
      "cell_type": "code",
      "metadata": {
        "colab": {
          "base_uri": "https://localhost:8080/"
        },
        "id": "dJcpQkkcN4RJ",
        "outputId": "3449c955-369d-4788-92dc-a5db1dc1ddc3"
      },
      "source": [
        "my_array2[0:2,0:2]"
      ],
      "execution_count": 42,
      "outputs": [
        {
          "output_type": "execute_result",
          "data": {
            "text/plain": [
              "array([[ 3,  6],\n",
              "       [12, 15]])"
            ]
          },
          "metadata": {},
          "execution_count": 42
        }
      ]
    },
    {
      "cell_type": "code",
      "metadata": {
        "colab": {
          "base_uri": "https://localhost:8080/"
        },
        "id": "veDT1IkWOB1Y",
        "outputId": "2a59839f-3354-4771-cb2b-244e0cc84d3d"
      },
      "source": [
        "my_array2[1:3,:]"
      ],
      "execution_count": 43,
      "outputs": [
        {
          "output_type": "execute_result",
          "data": {
            "text/plain": [
              "array([[12, 15, 18],\n",
              "       [21, 24, 27]])"
            ]
          },
          "metadata": {},
          "execution_count": 43
        }
      ]
    },
    {
      "cell_type": "code",
      "metadata": {
        "colab": {
          "base_uri": "https://localhost:8080/"
        },
        "id": "VyGUxXMjOEpa",
        "outputId": "55f6785b-9314-47c7-baa4-1f559fe312c5"
      },
      "source": [
        "my_array2[:,:]"
      ],
      "execution_count": 44,
      "outputs": [
        {
          "output_type": "execute_result",
          "data": {
            "text/plain": [
              "array([[ 3,  6,  9],\n",
              "       [12, 15, 18],\n",
              "       [21, 24, 27]])"
            ]
          },
          "metadata": {},
          "execution_count": 44
        }
      ]
    },
    {
      "cell_type": "markdown",
      "metadata": {
        "id": "w6bqbC_4OHe2"
      },
      "source": [
        "Numpy 정렬"
      ]
    },
    {
      "cell_type": "markdown",
      "metadata": {
        "id": "Sipfm9PFOJ2D"
      },
      "source": [
        "sort()"
      ]
    },
    {
      "cell_type": "code",
      "metadata": {
        "colab": {
          "base_uri": "https://localhost:8080/"
        },
        "id": "iet2tHauOLVL",
        "outputId": "20435bd2-2a9e-4eea-a380-ab54b1c5fa33"
      },
      "source": [
        "height_arr = np.array([174,165,180,182,168])\n",
        "sorted_height_arr = np.sort(height_arr)\n",
        "\n",
        "print('정렬 전: ',height_arr)\n",
        "print('키가 작은 순으로 정렬: ',sorted_height_arr)"
      ],
      "execution_count": 46,
      "outputs": [
        {
          "output_type": "stream",
          "name": "stdout",
          "text": [
            "정렬 전:  [174 165 180 182 168]\n",
            "키 큰 순으로 정렬 후:  [165 168 174 180 182]\n"
          ]
        }
      ]
    },
    {
      "cell_type": "code",
      "metadata": {
        "colab": {
          "base_uri": "https://localhost:8080/"
        },
        "id": "62fA__JAOxdZ",
        "outputId": "5b70293c-9129-4842-a66b-a0df2f991fef"
      },
      "source": [
        "#[::-1]\n",
        "desc_sorted_height_arr = np.sort(height_arr)[::-1]\n",
        "print('키가 큰 순으로 정렬: ' ,desc_sorted_height_arr)"
      ],
      "execution_count": 49,
      "outputs": [
        {
          "output_type": "stream",
          "name": "stdout",
          "text": [
            "키가 큰 순으로 정렬:  [182 180 174 168 165]\n"
          ]
        }
      ]
    },
    {
      "cell_type": "markdown",
      "metadata": {
        "id": "bBwY_tilPT95"
      },
      "source": [
        "argsort()"
      ]
    },
    {
      "cell_type": "code",
      "metadata": {
        "colab": {
          "base_uri": "https://localhost:8080/"
        },
        "id": "PL8J3UwaPVfY",
        "outputId": "a3a2ba41-b1ad-4ace-948d-b9cd5b739f54"
      },
      "source": [
        "fives = np.array([10,5,15,20])\n",
        "fives_order = fives.argsort()\n",
        "print(fives)\n",
        "print(fives_order)\n",
        "print(fives[fives_order])"
      ],
      "execution_count": 52,
      "outputs": [
        {
          "output_type": "stream",
          "name": "stdout",
          "text": [
            "[10  5 15 20]\n",
            "[1 0 2 3]\n",
            "[ 5 10 15 20]\n"
          ]
        }
      ]
    }
  ]
}